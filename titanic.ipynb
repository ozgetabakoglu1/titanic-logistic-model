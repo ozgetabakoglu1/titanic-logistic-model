{
 "cells": [
  {
   "cell_type": "code",
   "execution_count": 3,
   "id": "ba5c7e8b",
   "metadata": {},
   "outputs": [
    {
     "name": "stdout",
     "output_type": "stream",
     "text": [
      "Accuracy: 0.8100558659217877\n"
     ]
    }
   ],
   "source": [
    "# 1. Libraries\n",
    "import pandas as pd\n",
    "from sklearn.model_selection import train_test_split\n",
    "from sklearn.linear_model import LogisticRegression\n",
    "from sklearn.metrics import accuracy_score\n",
    "\n",
    "# 2. Data loading\n",
    "data = pd.read_csv(\"C:\\\\Users\\\\LENOVO\\\\Desktop\\\\my-projects\\\\data\\\\train.csv\")\n",
    "\n",
    "# 3. Simple data cleansing\n",
    "data = data[['Survived','Pclass','Sex','Age']]\n",
    "data['Age'].fillna(data['Age'].median(), inplace=True)\n",
    "data['Sex'] = data['Sex'].map({'male':0,'female':1})\n",
    "\n",
    "# 4. Data partitioning\n",
    "X = data[['Pclass','Sex','Age']]\n",
    "y = data['Survived']\n",
    "X_train, X_test, y_train, y_test = train_test_split(X, y, test_size=0.2, random_state=42)\n",
    "\n",
    "# 5. Creating a model\n",
    "model = LogisticRegression()\n",
    "model.fit(X_train, y_train)\n",
    "\n",
    "# 6. Prediction and accuracy\n",
    "pred = model.predict(X_test)\n",
    "acc = accuracy_score(y_test, pred)\n",
    "print(\"Accuracy:\", acc)"
   ]
  },
  {
   "cell_type": "code",
   "execution_count": 6,
   "id": "c5eeb6cd",
   "metadata": {},
   "outputs": [
    {
     "name": "stdout",
     "output_type": "stream",
     "text": [
      "Predict (0=Dead, 1=Alive): 0\n"
     ]
    }
   ],
   "source": [
    "# New passenger data\n",
    "# Example: 25-year-old male, 3rd class\n",
    "new_passenger = pd.DataFrame({\n",
    "    'Pclass': [3],\n",
    "    'Sex': [0],   # erkek\n",
    "    'Age': [25]\n",
    "})\n",
    "\n",
    "# Prediction\n",
    "prediction = model.predict(new_passenger)\n",
    "print(\"Predict (0=Dead, 1=Alive):\", prediction[0])"
   ]
  }
 ],
 "metadata": {
  "kernelspec": {
   "display_name": "Python 3 (ipykernel)",
   "language": "python",
   "name": "python3"
  },
  "language_info": {
   "codemirror_mode": {
    "name": "ipython",
    "version": 3
   },
   "file_extension": ".py",
   "mimetype": "text/x-python",
   "name": "python",
   "nbconvert_exporter": "python",
   "pygments_lexer": "ipython3",
   "version": "3.8.8"
  }
 },
 "nbformat": 4,
 "nbformat_minor": 5
}
